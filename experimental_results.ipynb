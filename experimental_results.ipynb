{
 "cells": [
  {
   "cell_type": "code",
   "execution_count": 3,
   "metadata": {},
   "outputs": [],
   "source": [
    "import pandas as pd\n",
    "import numpy as np\n",
    "import ampal\n",
    "from dp_utils.pipeline_data import get_full_pipeline_df\n",
    "from utils import useful_cols,useful_cols_non_csv\n",
    "import pandas\n",
    "\n",
    "pandas.set_option(\"display.max_rows\", None, \"display.max_columns\", None)"
   ]
  },
  {
   "cell_type": "code",
   "execution_count": 4,
   "metadata": {},
   "outputs": [],
   "source": [
    "\n",
    "def generate_deltaprot_designs_data():\n",
    "\n",
    "    no_disulfide_df =pd.read_csv(\"/home/tadas/code/deltaproteinsBristol/selected_deltaprots/no_disulfide/no_disulfide_selected_deltaprots.csv\")\n",
    "    no_disulfide_whole_pipeline_df = get_full_pipeline_df(\"/home/tadas/code/deltaproteinsBristol/pipeline_data/05_evaluation\")\n",
    "    # merge no_disulfide_whole_pipeline_df into no_disulfide_df only where by model_sequence and sequence_name match. Also ignore duplicate columns\n",
    "    no_disulfide_df = pd.merge(no_disulfide_df, no_disulfide_whole_pipeline_df, how=\"left\", left_on=[\"sequence_name\", \"model_sequence\"], right_on=[\"sequence_name\", \"model_sequence\"], suffixes=(\"\", \"_whole_pipeline\"))\n",
    "    no_disulfide_df.drop(columns=[col for col in no_disulfide_df.columns if \"_whole_pipeline\" in col], inplace=True)\n",
    "\n",
    "\n",
    "    variable_linkers_df = pd.read_csv(\"/home/tadas/code/deltaproteinsBristol/selected_deltaprots/variable_linkers/variable_linkers/variable_linkers_selected_deltaprots.csv\")\n",
    "    variable_linkers_whole_pipeline_df = get_full_pipeline_df(\"/home/tadas/code/deltaproteinsBristol/pipeline_data/orientation_gap_length_optimisation_optimised\")\n",
    "    variable_linkers_df = pd.merge(variable_linkers_df, variable_linkers_whole_pipeline_df, how=\"left\", left_on=[\"sequence_name\", \"model_sequence\"], right_on=[\"sequence_name\", \"model_sequence\"], suffixes=(\"\", \"_whole_pipeline\"))\n",
    "    variable_linkers_df.drop(columns=[col for col in variable_linkers_df.columns if \"_whole_pipeline\" in col], inplace=True)\n",
    "\n",
    "\n",
    "    no_disulfide_df[\"name\"]=\"no_disulfide_\"+no_disulfide_df[\"orientation_code\"]\n",
    "    variable_linkers_df[\"name\"]=\"variable_linkers_\"+variable_linkers_df[\"orientation_code\"]\n",
    "\n",
    "    # merge the two piplene dataframes \n",
    "    df = pd.concat([no_disulfide_df, variable_linkers_df], axis=0)\n",
    "\n",
    "    well_df = pd.read_csv(\"/home/tadas/code/deltaproteinsBristol/order_optimised_codons_96_wp.csv\")\n",
    "\n",
    "    # merge well_df with df by Name and sort by Well Position\n",
    "    df = pd.merge(well_df, df, how=\"left\", left_on=\"Name\", right_on=\"name\")\n",
    "\n",
    "\n",
    "\n",
    "    # MGSSHHHHHHSSGENLYFQSGS addition adds some mw\n",
    "    df[\"model_sequence_w_prefix\"] = \"MGSSHHHHHHSSGENLYFQSGS\" + df[\"model_sequence\"]\n",
    "    df[\"mass_w_prefix\"] = df[\"model_sequence_w_prefix\"].apply(ampal.analyse_protein.sequence_molecular_weight)\n",
    "    df[\"sequence_molar_extinction_280_w_prefix\"] = df[\"model_sequence_w_prefix\"].apply(ampal.analyse_protein.sequence_molar_extinction_280)\n",
    "    \n",
    "    df[\"percent_helicity_with_prefix\"] = df[\"dssp_assignment\"].str.count(\"H\") / df[\"model_sequence_w_prefix\"].str.len()\n",
    "    \n",
    "    df.to_pickle(\"/home/tadas/code/deltaproteinsBristol/deltaprot_designs_data.pkl\")\n",
    "\n",
    "def load_deltaprot_designs_data():\n",
    "    return pd.read_pickle(\"/home/tadas/code/deltaproteinsBristol/deltaprot_designs_data.pkl\")\n",
    "\n",
    "def calc_molar_conc(ext_coef, absorbance):\n",
    "    return ext_coef / absorbance\n",
    "\n",
    "def calc_mg_per_ml(molar_conc, mass):\n",
    "    return molar_conc * mass"
   ]
  },
  {
   "cell_type": "code",
   "execution_count": 8,
   "metadata": {},
   "outputs": [
    {
     "name": "stderr",
     "output_type": "stream",
     "text": [
      "/tmp/ipykernel_15704/1357209820.py:30: PerformanceWarning: DataFrame is highly fragmented.  This is usually the result of calling `frame.insert` many times, which has poor performance.  Consider joining all columns at once using pd.concat(axis=1) instead. To get a de-fragmented frame, use `newframe = frame.copy()`\n",
      "  df[\"model_sequence_w_prefix\"] = \"MGSSHHHHHHSSGENLYFQSGS\" + df[\"model_sequence\"]\n",
      "/tmp/ipykernel_15704/1357209820.py:31: PerformanceWarning: DataFrame is highly fragmented.  This is usually the result of calling `frame.insert` many times, which has poor performance.  Consider joining all columns at once using pd.concat(axis=1) instead. To get a de-fragmented frame, use `newframe = frame.copy()`\n",
      "  df[\"mass_w_prefix\"] = df[\"model_sequence_w_prefix\"].apply(ampal.analyse_protein.sequence_molecular_weight)\n",
      "/tmp/ipykernel_15704/1357209820.py:32: PerformanceWarning: DataFrame is highly fragmented.  This is usually the result of calling `frame.insert` many times, which has poor performance.  Consider joining all columns at once using pd.concat(axis=1) instead. To get a de-fragmented frame, use `newframe = frame.copy()`\n",
      "  df[\"sequence_molar_extinction_280_w_prefix\"] = df[\"model_sequence_w_prefix\"].apply(ampal.analyse_protein.sequence_molar_extinction_280)\n",
      "/tmp/ipykernel_15704/1357209820.py:34: PerformanceWarning: DataFrame is highly fragmented.  This is usually the result of calling `frame.insert` many times, which has poor performance.  Consider joining all columns at once using pd.concat(axis=1) instead. To get a de-fragmented frame, use `newframe = frame.copy()`\n",
      "  df[\"percent_helicity_with_prefix\"] = df[\"dssp_assignment\"].str.count(\"H\") / df[\"model_sequence_w_prefix\"].str.len()\n"
     ]
    }
   ],
   "source": [
    "generate_deltaprot_designs_data()\n",
    "df = load_deltaprot_designs_data()\n"
   ]
  },
  {
   "cell_type": "code",
   "execution_count": null,
   "metadata": {},
   "outputs": [],
   "source": []
  },
  {
   "cell_type": "code",
   "execution_count": null,
   "metadata": {},
   "outputs": [
    {
     "ename": "KeyError",
     "evalue": "'crystal_screens_info'",
     "output_type": "error",
     "traceback": [
      "\u001b[0;31m---------------------------------------------------------------------------\u001b[0m",
      "\u001b[0;31mKeyError\u001b[0m                                  Traceback (most recent call last)",
      "File \u001b[0;32m~/anaconda3/envs/deltaprot_design/lib/python3.8/site-packages/pandas/core/indexes/base.py:3653\u001b[0m, in \u001b[0;36mIndex.get_loc\u001b[0;34m(self, key)\u001b[0m\n\u001b[1;32m   3652\u001b[0m \u001b[38;5;28;01mtry\u001b[39;00m:\n\u001b[0;32m-> 3653\u001b[0m     \u001b[38;5;28;01mreturn\u001b[39;00m \u001b[38;5;28;43mself\u001b[39;49m\u001b[38;5;241;43m.\u001b[39;49m\u001b[43m_engine\u001b[49m\u001b[38;5;241;43m.\u001b[39;49m\u001b[43mget_loc\u001b[49m\u001b[43m(\u001b[49m\u001b[43mcasted_key\u001b[49m\u001b[43m)\u001b[49m\n\u001b[1;32m   3654\u001b[0m \u001b[38;5;28;01mexcept\u001b[39;00m \u001b[38;5;167;01mKeyError\u001b[39;00m \u001b[38;5;28;01mas\u001b[39;00m err:\n",
      "File \u001b[0;32m~/anaconda3/envs/deltaprot_design/lib/python3.8/site-packages/pandas/_libs/index.pyx:147\u001b[0m, in \u001b[0;36mpandas._libs.index.IndexEngine.get_loc\u001b[0;34m()\u001b[0m\n",
      "File \u001b[0;32m~/anaconda3/envs/deltaprot_design/lib/python3.8/site-packages/pandas/_libs/index.pyx:176\u001b[0m, in \u001b[0;36mpandas._libs.index.IndexEngine.get_loc\u001b[0;34m()\u001b[0m\n",
      "File \u001b[0;32mpandas/_libs/hashtable_class_helper.pxi:7080\u001b[0m, in \u001b[0;36mpandas._libs.hashtable.PyObjectHashTable.get_item\u001b[0;34m()\u001b[0m\n",
      "File \u001b[0;32mpandas/_libs/hashtable_class_helper.pxi:7088\u001b[0m, in \u001b[0;36mpandas._libs.hashtable.PyObjectHashTable.get_item\u001b[0;34m()\u001b[0m\n",
      "\u001b[0;31mKeyError\u001b[0m: 'crystal_screens_info'",
      "\nThe above exception was the direct cause of the following exception:\n",
      "\u001b[0;31mKeyError\u001b[0m                                  Traceback (most recent call last)",
      "Cell \u001b[0;32mIn[15], line 169\u001b[0m\n\u001b[1;32m    167\u001b[0m crystal_keys \u001b[38;5;241m=\u001b[39m [\u001b[38;5;124m\"\u001b[39m\u001b[38;5;124mplate\u001b[39m\u001b[38;5;124m\"\u001b[39m, \u001b[38;5;124m\"\u001b[39m\u001b[38;5;124mposition\u001b[39m\u001b[38;5;124m\"\u001b[39m, \u001b[38;5;124m\"\u001b[39m\u001b[38;5;124mdate\u001b[39m\u001b[38;5;124m\"\u001b[39m, \u001b[38;5;124m\"\u001b[39m\u001b[38;5;124mA280\u001b[39m\u001b[38;5;124m\"\u001b[39m]\n\u001b[1;32m    168\u001b[0m \u001b[38;5;28;01mfor\u001b[39;00m key \u001b[38;5;129;01min\u001b[39;00m crystal_keys:\n\u001b[0;32m--> 169\u001b[0m     df[\u001b[38;5;124mf\u001b[39m\u001b[38;5;124m\"\u001b[39m\u001b[38;5;124mcrystal_\u001b[39m\u001b[38;5;132;01m{\u001b[39;00mkey\u001b[38;5;132;01m}\u001b[39;00m\u001b[38;5;124m\"\u001b[39m] \u001b[38;5;241m=\u001b[39m \u001b[43mdf\u001b[49m\u001b[43m[\u001b[49m\u001b[38;5;124;43m\"\u001b[39;49m\u001b[38;5;124;43mcrystal_screens_info\u001b[39;49m\u001b[38;5;124;43m\"\u001b[39;49m\u001b[43m]\u001b[49m\u001b[38;5;241m.\u001b[39mmap(\u001b[38;5;28;01mlambda\u001b[39;00m x: x\u001b[38;5;241m.\u001b[39mget(key) \u001b[38;5;28;01mif\u001b[39;00m \u001b[38;5;28misinstance\u001b[39m(x, \u001b[38;5;28mdict\u001b[39m) \u001b[38;5;28;01melse\u001b[39;00m \u001b[38;5;28;01mNone\u001b[39;00m)\n\u001b[1;32m    171\u001b[0m \u001b[38;5;66;03m# Drop original nested column\u001b[39;00m\n\u001b[1;32m    172\u001b[0m df\u001b[38;5;241m.\u001b[39mdrop(columns\u001b[38;5;241m=\u001b[39m[\u001b[38;5;124m\"\u001b[39m\u001b[38;5;124mcrystal_screens_info\u001b[39m\u001b[38;5;124m\"\u001b[39m], inplace\u001b[38;5;241m=\u001b[39m\u001b[38;5;28;01mTrue\u001b[39;00m)\n",
      "File \u001b[0;32m~/anaconda3/envs/deltaprot_design/lib/python3.8/site-packages/pandas/core/frame.py:3761\u001b[0m, in \u001b[0;36mDataFrame.__getitem__\u001b[0;34m(self, key)\u001b[0m\n\u001b[1;32m   3759\u001b[0m \u001b[38;5;28;01mif\u001b[39;00m \u001b[38;5;28mself\u001b[39m\u001b[38;5;241m.\u001b[39mcolumns\u001b[38;5;241m.\u001b[39mnlevels \u001b[38;5;241m>\u001b[39m \u001b[38;5;241m1\u001b[39m:\n\u001b[1;32m   3760\u001b[0m     \u001b[38;5;28;01mreturn\u001b[39;00m \u001b[38;5;28mself\u001b[39m\u001b[38;5;241m.\u001b[39m_getitem_multilevel(key)\n\u001b[0;32m-> 3761\u001b[0m indexer \u001b[38;5;241m=\u001b[39m \u001b[38;5;28;43mself\u001b[39;49m\u001b[38;5;241;43m.\u001b[39;49m\u001b[43mcolumns\u001b[49m\u001b[38;5;241;43m.\u001b[39;49m\u001b[43mget_loc\u001b[49m\u001b[43m(\u001b[49m\u001b[43mkey\u001b[49m\u001b[43m)\u001b[49m\n\u001b[1;32m   3762\u001b[0m \u001b[38;5;28;01mif\u001b[39;00m is_integer(indexer):\n\u001b[1;32m   3763\u001b[0m     indexer \u001b[38;5;241m=\u001b[39m [indexer]\n",
      "File \u001b[0;32m~/anaconda3/envs/deltaprot_design/lib/python3.8/site-packages/pandas/core/indexes/base.py:3655\u001b[0m, in \u001b[0;36mIndex.get_loc\u001b[0;34m(self, key)\u001b[0m\n\u001b[1;32m   3653\u001b[0m     \u001b[38;5;28;01mreturn\u001b[39;00m \u001b[38;5;28mself\u001b[39m\u001b[38;5;241m.\u001b[39m_engine\u001b[38;5;241m.\u001b[39mget_loc(casted_key)\n\u001b[1;32m   3654\u001b[0m \u001b[38;5;28;01mexcept\u001b[39;00m \u001b[38;5;167;01mKeyError\u001b[39;00m \u001b[38;5;28;01mas\u001b[39;00m err:\n\u001b[0;32m-> 3655\u001b[0m     \u001b[38;5;28;01mraise\u001b[39;00m \u001b[38;5;167;01mKeyError\u001b[39;00m(key) \u001b[38;5;28;01mfrom\u001b[39;00m \u001b[38;5;21;01merr\u001b[39;00m\n\u001b[1;32m   3656\u001b[0m \u001b[38;5;28;01mexcept\u001b[39;00m \u001b[38;5;167;01mTypeError\u001b[39;00m:\n\u001b[1;32m   3657\u001b[0m     \u001b[38;5;66;03m# If we have a listlike key, _check_indexing_error will raise\u001b[39;00m\n\u001b[1;32m   3658\u001b[0m     \u001b[38;5;66;03m#  InvalidIndexError. Otherwise we fall through and re-raise\u001b[39;00m\n\u001b[1;32m   3659\u001b[0m     \u001b[38;5;66;03m#  the TypeError.\u001b[39;00m\n\u001b[1;32m   3660\u001b[0m     \u001b[38;5;28mself\u001b[39m\u001b[38;5;241m.\u001b[39m_check_indexing_error(key)\n",
      "\u001b[0;31mKeyError\u001b[0m: 'crystal_screens_info'"
     ]
    }
   ],
   "source": [
    "\n",
    "# populate received_from_idt column. Received everything except for C2,C4,D5,D6,F2,F3,F6\n",
    "\n",
    "\n",
    "not_received = ['C2', 'C4', 'D5', 'D6', 'F2', 'F3', 'F6']\n",
    "df['received_from_idt'] = ~df[\"Well Position\"].isin(not_received)\n",
    "\n",
    "# populate transformation_attempted for (A1-A12,B1-B12,C1,C3,F4,C5,C6)\n",
    "transformation_attempted_ids = set([f\"A{i}\" for i in range(1, 13)] +\n",
    "                    [f\"B{i}\" for i in range(1, 13)] +\n",
    "                    ['C1', 'C3', 'F4', 'C5', 'C6'])\n",
    "df['transformation_attempted'] = df[\"Well Position\"].isin(transformation_attempted_ids)\n",
    "df['transformation_successful'] = df[\"Well Position\"].isin(transformation_attempted_ids) # all transformations worked, C6 failed initially\n",
    "\n",
    "# populate expression_levels: (None, \"low\",\"medium\",\"high\") low: A1,A3,A6,A7,A8,A10,B1. Medium: A5,A11,B2,B3. High: A9,A12\n",
    "\n",
    "\n",
    "expr_map = {\n",
    "    # TODO , 'C6' was transformed later, but not yet tested\n",
    "    **dict.fromkeys(['A2', 'A4', 'B5', 'B6', 'B7', 'B9', 'B11', 'C5'], 'none'), \n",
    "    **dict.fromkeys(['A1','A3', 'A6', 'A8', 'B1','B4', 'B10','C3'], 'low'),\n",
    "    **dict.fromkeys(['A7', 'A10','B12','C1','F4'], 'medium'),\n",
    "    **dict.fromkeys(['A11', 'B2', 'B3','A5'], 'high'),\n",
    "    **dict.fromkeys(['A9', 'A12', 'B8'], 'super_high')\n",
    "}\n",
    "df['expression_levels'] = df[\"Well Position\"].map(expr_map)\n",
    "\n",
    "# populate sds_page_size_appearance for every visible band?\n",
    "# TODO\n",
    "\n",
    "# populate large_scale_expressed for A12,A9,B8,A1,B12,F4\n",
    "scaled_expressed_ids = ['A12','A9','B8','A1','B12','F4',\"A11\",\"B3\",\"B10\"]\n",
    "df['large_scale_expressed'] = df[\"Well Position\"].isin(scaled_expressed_ids)\n",
    "\n",
    "# populate scaled_purified for A12,A9,B8 TODO add ,'A1','B12','F4'\n",
    "# scaled_purified_ids = ['A12','A9','B8'] \\\n",
    "\n",
    "# Note: A9,B8 had some aggregation (small pellet after spining down). A12 did not\n",
    "\n",
    "A280_after_NI_NTA_IMAC = {\n",
    "    \"A12\": 13.41,\n",
    "    \"A9\": 6.2,\n",
    "    \"B8\": 16.11,\n",
    "    #\"A1\" Not Measured, \n",
    "    #\"B12\" Not Measured, \n",
    "    #\"F4\": Not Measured, \n",
    "    \"A11\":6.565,\n",
    "    \"B3\":9.067,\n",
    "    \"B10\":5.780,\n",
    "}\n",
    "\n",
    "\n",
    "df['A280_after_NI_NTA_IMAC'] = df[\"Well Position\"].map(A280_after_NI_NTA_IMAC)\n",
    "volume_after_NI_NTA_IMAC = 3.2\n",
    "# calculate molar conc asuming sample is entirely my protein df.sequence_molar_extinction_280\n",
    "\n",
    "df['molar_conc_after_NI_NTA_IMAC'] = df['A280_after_NI_NTA_IMAC'] / df['sequence_molar_extinction_280_w_prefix']\n",
    "df['mg_per_ml_after_NI_NTA_IMAC'] = df['molar_conc_after_NI_NTA_IMAC'] * df['mass_w_prefix']\n",
    "df['mg_after_NI_NTA_IMAC'] = df['mg_per_ml_after_NI_NTA_IMAC'] * volume_after_NI_NTA_IMAC\n",
    "\n",
    "# after SEC (central fractions)\n",
    "A280_after_SEC = {\n",
    "    \"A12\": 4.93,\n",
    "    \"A9\": 2.18,\n",
    "    \"B8\": 6.758,\n",
    "    \"A1\": 0.820,\n",
    "    \"B12\": 2.510,\n",
    "    \"F4\": 2.427, \n",
    "    \"A11\":2.478,\n",
    "    \"B3\":2.939,\n",
    "    \"B10\":2.556,\n",
    "}\n",
    "volume_after_sec = {\n",
    "    \"A12\": 5.1,\n",
    "    \"A9\": 5.1,\n",
    "    \"B8\": 3.4,\n",
    "    \"A1\": 3.4,\n",
    "    \"B12\": 5.1,\n",
    "    \"F4\": 5.1,\n",
    "    \"A11\": 5.1,\n",
    "    \"B3\":3.4,\n",
    "    \"B10\":3.4,\n",
    "}\n",
    "df[\"volume_after_sec\"] = df[\"Well Position\"].map(volume_after_sec)\n",
    "\n",
    "df['A280_after_SEC'] = df[\"Well Position\"].map(A280_after_SEC)\n",
    "df['molar_conc_after_SEC'] = df['A280_after_SEC'] / df['sequence_molar_extinction_280_w_prefix']\n",
    "df['mg_per_ml_after_SEC'] = df['molar_conc_after_SEC'] * df['mass_w_prefix']\n",
    "df['mg_after_SEC'] = df['mg_per_ml_after_SEC'] * df['volume_after_sec']\n",
    "\n",
    "\n",
    "# Biophysical characterisation info (CD and biophysical SEC used same sample. Was assumed it is 20 uM, however it was a bit less.)\n",
    "cd_sample_A280 = {\n",
    "    \"A12\": 0.395, # later measure: 0.406\n",
    "    \"A9\": 0.168, # later measure: 0.190\n",
    "    \"B8\": 0.517, # later measure: 0.537\n",
    "    \"A1\":0.173,\n",
    "    \"B12\": 0.210,\n",
    "    \"F4\": 0.211,\n",
    "    \"A11\": 0.569,\n",
    "    \"B3\":0.764,\n",
    "    \"B10\":0.175,\n",
    "}\n",
    "\n",
    "df[\"cd_sample_A280\"] = df[\"Well Position\"].map(cd_sample_A280)\n",
    "df[\"cd_sample_molar_conc\"] = df[\"cd_sample_A280\"] / df[\"sequence_molar_extinction_280_w_prefix\"]\n",
    "df[\"cd_path_length_mm\"]=1\n",
    "\n",
    "saxs_submitted_samples = [\"A1\",\"A9\",\"A12\",\"B8\",\"B12\",\"F4\"]\n",
    "\n",
    "df[\"saxs_submitted\"] = df[\"Well Position\"].isin(saxs_submitted_samples)\n",
    "\n",
    "# crystal screens set up with 3+3 uL\n",
    "\n",
    "    # # plate 1, position 2:\n",
    "    # \"B12\": 19.19,\n",
    "\n",
    "    # # plate 2, position 1:\n",
    "    # \"A12\": 36.56,\n",
    "    # # plate 2, position 2:\n",
    "    # \"B8\": 43.35,\n",
    "\n",
    "    # # plate 3, position 1:\n",
    "    # \"A1\": 13.82,\n",
    "    # # plate 3, position 2:\n",
    "    # \"B3\": 37.62,\n",
    "crystal_screens_info = {\n",
    "    # plate 1, position 1:\n",
    "    \"A9\": {\n",
    "        \"plate\": 1,\n",
    "        \"position\": 1,\n",
    "        \"date\": \"2025-04-11\",\n",
    "        \"A280\": 19.40\n",
    "    },\n",
    "    \"B12\":{\n",
    "        \"plate\": 1,\n",
    "        \"position\": 2,\n",
    "        \"date\": \"2025-04-11\",\n",
    "        \"A280\": 19.19\n",
    "    },\n",
    "    \"A12\":{\n",
    "        \"plate\": 2,\n",
    "        \"position\": 1,\n",
    "        \"date\": \"2025-04-14\",\n",
    "        \"A280\": 36.56\n",
    "    },\n",
    "    \"B8\":{\n",
    "        \"plate\": 2,\n",
    "        \"position\": 2,\n",
    "        \"date\": \"2025-04-14\",\n",
    "        \"A280\": 43.35\n",
    "    },\n",
    "    \"A1\":{\n",
    "        \"plate\": 3,\n",
    "        \"position\": 1,\n",
    "        \"date\": \"2025-04-17\",\n",
    "        \"A280\": 13.82\n",
    "    },\n",
    "    \"B3\":{\n",
    "        \"plate\": 3,\n",
    "        \"position\": 2,\n",
    "        \"date\": \"2025-04-17\",\n",
    "        \"A280\": 37.62\n",
    "    }\n",
    "}\n",
    "# unpack all of these columns to df\n",
    "df[\"crystal_screens_info\"] = df[\"Well Position\"].map(crystal_screens_info)\n",
    "\n",
    "crystal_keys = [\"plate\", \"position\", \"date\", \"A280\"]\n",
    "for key in crystal_keys:\n",
    "    df[f\"crystal_{key}\"] = df[\"crystal_screens_info\"].map(lambda x: x.get(key) if isinstance(x, dict) else None)\n",
    "\n",
    "# Drop original nested column\n",
    "df.drop(columns=[\"crystal_screens_info\"], inplace=True)\n",
    "\n",
    "\n",
    "\n",
    "# df[\"mg_per_ml_crystal_screens\"] = df[\"crystal_screens_info\"].map(lambda x: x[\"mg_per_ml\"] if x else np.nan)\n",
    "# df[\"plate_crystal_screens\"] = df[\"crystal_screens_info\"].map(lambda x: x[\"plate\"] if x else np.nan)\n",
    "# df[\"position_crystal_screens\"] = df[\"crystal_screens_info\"].map(lambda x: x[\"position\"] if x else np.nan)\n",
    "# df[\"date_crystal_screens\"] = df[\"crystal_screens_info\"].map(lambda x: x[\"date\"] if x else np.nan)\n",
    "    \n",
    "\n",
    "experimental_cols = [\n",
    "    \"received_from_idt\",\n",
    "    \"transformation_attempted\",\n",
    "    \"transformation_successful\",\n",
    "    \"expression_levels\",\n",
    "    \"large_scale_expressed\",\n",
    "    \"A280_after_NI_NTA_IMAC\",\n",
    "    \"molar_conc_after_NI_NTA_IMAC\",\n",
    "    \"mg_per_ml_after_NI_NTA_IMAC\",\n",
    "    \"mg_after_NI_NTA_IMAC\",\n",
    "    \"volume_after_sec\",\n",
    "    \"A280_after_SEC\",\n",
    "    \"molar_conc_after_SEC\",\n",
    "    \"mg_per_ml_after_SEC\",\n",
    "    \"mg_after_SEC\",\n",
    "    \"cd_sample_A280\",\n",
    "    \"cd_sample_molar_conc\",\n",
    "    \"cd_path_length_mm\",\n",
    "    \"saxs_submitted\",\n",
    "    \"crystal_screens_info\"\n",
    "    \"crystal_plate\", \"crystal_position\", \"crystal_date\", \"crystal_A280\"\n",
    "            # \"scaled_purified\" is mentioned but not actually created\n",
    "]\n"
   ]
  },
  {
   "cell_type": "code",
   "execution_count": 16,
   "metadata": {},
   "outputs": [
    {
     "ename": "KeyError",
     "evalue": "\"['crystal_screens_infocrystal_plate'] not in index\"",
     "output_type": "error",
     "traceback": [
      "\u001b[0;31m---------------------------------------------------------------------------\u001b[0m",
      "\u001b[0;31mKeyError\u001b[0m                                  Traceback (most recent call last)",
      "Cell \u001b[0;32mIn[16], line 1\u001b[0m\n\u001b[0;32m----> 1\u001b[0m \u001b[43mdf\u001b[49m\u001b[43m[\u001b[49m\u001b[43museful_cols\u001b[49m\u001b[38;5;241;43m+\u001b[39;49m\u001b[43mexperimental_cols\u001b[49m\u001b[43m]\u001b[49m\u001b[38;5;241m.\u001b[39mto_csv(\u001b[38;5;124m\"\u001b[39m\u001b[38;5;124m/home/tadas/code/deltaproteinsBristol/experimental_results/deltaprot_designs_data_with_results.csv\u001b[39m\u001b[38;5;124m\"\u001b[39m, index\u001b[38;5;241m=\u001b[39m\u001b[38;5;28;01mFalse\u001b[39;00m)\n\u001b[1;32m      2\u001b[0m df\u001b[38;5;241m.\u001b[39mto_pickle(\u001b[38;5;124m\"\u001b[39m\u001b[38;5;124m/home/tadas/code/deltaproteinsBristol/deltaprot_designs_all_data_with_results.pkl\u001b[39m\u001b[38;5;124m\"\u001b[39m)\n",
      "File \u001b[0;32m~/anaconda3/envs/deltaprot_design/lib/python3.8/site-packages/pandas/core/frame.py:3767\u001b[0m, in \u001b[0;36mDataFrame.__getitem__\u001b[0;34m(self, key)\u001b[0m\n\u001b[1;32m   3765\u001b[0m     \u001b[38;5;28;01mif\u001b[39;00m is_iterator(key):\n\u001b[1;32m   3766\u001b[0m         key \u001b[38;5;241m=\u001b[39m \u001b[38;5;28mlist\u001b[39m(key)\n\u001b[0;32m-> 3767\u001b[0m     indexer \u001b[38;5;241m=\u001b[39m \u001b[38;5;28;43mself\u001b[39;49m\u001b[38;5;241;43m.\u001b[39;49m\u001b[43mcolumns\u001b[49m\u001b[38;5;241;43m.\u001b[39;49m\u001b[43m_get_indexer_strict\u001b[49m\u001b[43m(\u001b[49m\u001b[43mkey\u001b[49m\u001b[43m,\u001b[49m\u001b[43m \u001b[49m\u001b[38;5;124;43m\"\u001b[39;49m\u001b[38;5;124;43mcolumns\u001b[39;49m\u001b[38;5;124;43m\"\u001b[39;49m\u001b[43m)\u001b[49m[\u001b[38;5;241m1\u001b[39m]\n\u001b[1;32m   3769\u001b[0m \u001b[38;5;66;03m# take() does not accept boolean indexers\u001b[39;00m\n\u001b[1;32m   3770\u001b[0m \u001b[38;5;28;01mif\u001b[39;00m \u001b[38;5;28mgetattr\u001b[39m(indexer, \u001b[38;5;124m\"\u001b[39m\u001b[38;5;124mdtype\u001b[39m\u001b[38;5;124m\"\u001b[39m, \u001b[38;5;28;01mNone\u001b[39;00m) \u001b[38;5;241m==\u001b[39m \u001b[38;5;28mbool\u001b[39m:\n",
      "File \u001b[0;32m~/anaconda3/envs/deltaprot_design/lib/python3.8/site-packages/pandas/core/indexes/base.py:5877\u001b[0m, in \u001b[0;36mIndex._get_indexer_strict\u001b[0;34m(self, key, axis_name)\u001b[0m\n\u001b[1;32m   5874\u001b[0m \u001b[38;5;28;01melse\u001b[39;00m:\n\u001b[1;32m   5875\u001b[0m     keyarr, indexer, new_indexer \u001b[38;5;241m=\u001b[39m \u001b[38;5;28mself\u001b[39m\u001b[38;5;241m.\u001b[39m_reindex_non_unique(keyarr)\n\u001b[0;32m-> 5877\u001b[0m \u001b[38;5;28;43mself\u001b[39;49m\u001b[38;5;241;43m.\u001b[39;49m\u001b[43m_raise_if_missing\u001b[49m\u001b[43m(\u001b[49m\u001b[43mkeyarr\u001b[49m\u001b[43m,\u001b[49m\u001b[43m \u001b[49m\u001b[43mindexer\u001b[49m\u001b[43m,\u001b[49m\u001b[43m \u001b[49m\u001b[43maxis_name\u001b[49m\u001b[43m)\u001b[49m\n\u001b[1;32m   5879\u001b[0m keyarr \u001b[38;5;241m=\u001b[39m \u001b[38;5;28mself\u001b[39m\u001b[38;5;241m.\u001b[39mtake(indexer)\n\u001b[1;32m   5880\u001b[0m \u001b[38;5;28;01mif\u001b[39;00m \u001b[38;5;28misinstance\u001b[39m(key, Index):\n\u001b[1;32m   5881\u001b[0m     \u001b[38;5;66;03m# GH 42790 - Preserve name from an Index\u001b[39;00m\n",
      "File \u001b[0;32m~/anaconda3/envs/deltaprot_design/lib/python3.8/site-packages/pandas/core/indexes/base.py:5941\u001b[0m, in \u001b[0;36mIndex._raise_if_missing\u001b[0;34m(self, key, indexer, axis_name)\u001b[0m\n\u001b[1;32m   5938\u001b[0m     \u001b[38;5;28;01mraise\u001b[39;00m \u001b[38;5;167;01mKeyError\u001b[39;00m(\u001b[38;5;124mf\u001b[39m\u001b[38;5;124m\"\u001b[39m\u001b[38;5;124mNone of [\u001b[39m\u001b[38;5;132;01m{\u001b[39;00mkey\u001b[38;5;132;01m}\u001b[39;00m\u001b[38;5;124m] are in the [\u001b[39m\u001b[38;5;132;01m{\u001b[39;00maxis_name\u001b[38;5;132;01m}\u001b[39;00m\u001b[38;5;124m]\u001b[39m\u001b[38;5;124m\"\u001b[39m)\n\u001b[1;32m   5940\u001b[0m not_found \u001b[38;5;241m=\u001b[39m \u001b[38;5;28mlist\u001b[39m(ensure_index(key)[missing_mask\u001b[38;5;241m.\u001b[39mnonzero()[\u001b[38;5;241m0\u001b[39m]]\u001b[38;5;241m.\u001b[39munique())\n\u001b[0;32m-> 5941\u001b[0m \u001b[38;5;28;01mraise\u001b[39;00m \u001b[38;5;167;01mKeyError\u001b[39;00m(\u001b[38;5;124mf\u001b[39m\u001b[38;5;124m\"\u001b[39m\u001b[38;5;132;01m{\u001b[39;00mnot_found\u001b[38;5;132;01m}\u001b[39;00m\u001b[38;5;124m not in index\u001b[39m\u001b[38;5;124m\"\u001b[39m)\n",
      "\u001b[0;31mKeyError\u001b[0m: \"['crystal_screens_infocrystal_plate'] not in index\""
     ]
    }
   ],
   "source": [
    "df[useful_cols+experimental_cols].to_csv(\"/home/tadas/code/deltaproteinsBristol/experimental_results/deltaprot_designs_data_with_results.csv\", index=False)\n",
    "df.to_pickle(\"/home/tadas/code/deltaproteinsBristol/deltaprot_designs_all_data_with_results.pkl\")"
   ]
  },
  {
   "cell_type": "code",
   "execution_count": 15,
   "metadata": {},
   "outputs": [
    {
     "name": "stdout",
     "output_type": "stream",
     "text": [
      "A1 MGSSHHHHHHSSGENLYFQSGSKKEEIRRYLREVRRRLEAGEPLSEEQLRAIEEAREWLEENREEYPEEYEIVEEALKSL\n",
      "\n",
      "A9 MGSSHHHHHHSSGENLYFQSGSMSREEKIKLLKEKGYNLSREELIKLILEEYGYDTEETKELREKAYEELKKLDWNLSREELIEQMVEVIDSL\n",
      "\n",
      "A12 MGSSHHHHHHSSGENLYFQSGSIKELVYKTIEKLLENIDKKETAEKWKEYIKWLEEKGLSKEIRDEWIKLIEEMEKGMDKEEAKKRAYELADKALEDLLKKHSKEEVEELIREVESKL\n",
      "\n",
      "B8 MGSSHHHHHHSSGENLYFQSGSGKELALETFYKLYAGEWKTEEQKKIQEVWKKLWELVGKPFSEEGIIEGYRLLLEKLKEKGASKELIEYVENLIKGLETGELSEEVLKYIEGLKNPEENKEVLEKIMKMWEEIEECL\n",
      "\n",
      "B12 MGSSHHHHHHSSGENLYFQSGSSELKEKLKYLLEHPEELSSERLKEMIEKLKAGFYGYWEELRKVLEELAADESATSPYELALIEFYELSKELSEEEIEELIKEVLEE\n",
      "\n",
      "F4 MGSSHHHHHHSSGENLYFQSGSGEEALEALRRGEVEPLVELLRAAGLEEEKAEAIGEALAETESLEEAAEALSEFGDGERVREAWRRGEWEEAARLLRE\n",
      "\n"
     ]
    }
   ],
   "source": [
    "df[[\"Well Position\",\"Name\",\"model_sequence_w_prefix\"]]\n",
    "\n",
    "# for row in df print well position and model sequence\n",
    "for index, row in df[df[\"saxs_submitted\"]].iterrows():\n",
    "    print(row[\"Well Position\"], row[\"model_sequence_w_prefix\"])\n",
    "    print()"
   ]
  },
  {
   "cell_type": "code",
   "execution_count": null,
   "metadata": {},
   "outputs": [],
   "source": [
    "df[df['large_scale_expressed']][[\"Well Position\",\"Name\",\"mass_w_prefix\",\"expression_levels\",\"mg_per_ml_after_SEC\",\"mg_after_SEC\",\"molar_conc_after_SEC\",\"cd_sample_molar_conc\"]]"
   ]
  },
  {
   "cell_type": "code",
   "execution_count": null,
   "metadata": {},
   "outputs": [],
   "source": [
    "# set limit to column width\n",
    "pd.set_option('display.max_colwidth', 1)"
   ]
  },
  {
   "cell_type": "code",
   "execution_count": null,
   "metadata": {},
   "outputs": [],
   "source": [
    "df[[\"Well Position\",\"cd_sample_molar_conc\",\"Name\",\"expression_levels\"]]"
   ]
  },
  {
   "cell_type": "code",
   "execution_count": null,
   "metadata": {},
   "outputs": [],
   "source": [
    "df[[\"Well Position\",\"cd_sample_molar_conc\",\"Name\",\"A280_after_SEC\",\"volume_after_sec\",\"sequence_molar_extinction_280_w_prefix\",\"molar_conc_after_SEC\",\"mg_per_ml_after_SEC\",\"mg_after_SEC\"]]"
   ]
  },
  {
   "cell_type": "code",
   "execution_count": null,
   "metadata": {},
   "outputs": [],
   "source": [
    "df[[\"Well Position\",\"Name\",\"mass\",\"mass_w_prefix\",\"charge\",\"A280_after_SEC\",\"volume_after_sec\",\"sequence_molar_extinction_280_w_prefix\",\"molar_conc_after_NI_NTA_IMAC\",\"molar_conc_after_SEC\",\"mg_per_ml_after_SEC\",\"mg_after_SEC\"]]"
   ]
  },
  {
   "cell_type": "code",
   "execution_count": null,
   "metadata": {},
   "outputs": [],
   "source": [
    "# mass correct: A9, A11, B2, C1, F4, B12\n",
    "# mass questionable: A12 (has 2 bands), B3 (2 bands)\n",
    "# mass wrong: "
   ]
  },
  {
   "cell_type": "code",
   "execution_count": null,
   "metadata": {},
   "outputs": [],
   "source": [
    "# unlimit pandas column display number\n",
    "pd.set_option('display.max_columns', None)"
   ]
  },
  {
   "cell_type": "code",
   "execution_count": null,
   "metadata": {},
   "outputs": [],
   "source": [
    "df[df[\"expression_levels\"].isna()][[\"Well Position\",\"Name\",\"mass_w_prefix\",\"expression_levels\",\"large_scale_expressed\"]]"
   ]
  },
  {
   "cell_type": "code",
   "execution_count": null,
   "metadata": {},
   "outputs": [],
   "source": [
    "df[\"expression_levels\"]"
   ]
  },
  {
   "cell_type": "code",
   "execution_count": null,
   "metadata": {},
   "outputs": [],
   "source": [
    "df[df[\"expression_levels\"].isin([\"low\",\"medium\",\"high\",\"super_high\"])].sort_values([\"large_scale_expressed\",\"expression_levels\"],ascending=[False,True])[[\"Well Position\",\"Name\",\"mass_w_prefix\",\"expression_levels\",\"large_scale_expressed\"]]"
   ]
  },
  {
   "cell_type": "code",
   "execution_count": null,
   "metadata": {},
   "outputs": [],
   "source": [
    "x=df[df[\"expression_levels\"].isin([\"high\",\"super_high\"])]\n",
    "x"
   ]
  },
  {
   "cell_type": "code",
   "execution_count": null,
   "metadata": {},
   "outputs": [],
   "source": [
    "# Choices for large scale expression\n",
    "\n",
    "# A12\tno_disulfide_b5ininn super_high\n",
    "# A9\tno_disulfide_b4nnnny\n",
    "# B8\tno_disulfide_h6i_i_i\n",
    "\n",
    "# A1 no_disulfide_b3iii (low-medium)\n",
    "# B12\tno_disulfide_l5iiin (medium)\n",
    "# F4\tvariable_linkers_l6innni\t(medium)\n"
   ]
  },
  {
   "cell_type": "code",
   "execution_count": null,
   "metadata": {},
   "outputs": [],
   "source": []
  },
  {
   "cell_type": "code",
   "execution_count": null,
   "metadata": {},
   "outputs": [],
   "source": []
  },
  {
   "cell_type": "code",
   "execution_count": null,
   "metadata": {},
   "outputs": [],
   "source": []
  },
  {
   "cell_type": "code",
   "execution_count": null,
   "metadata": {},
   "outputs": [],
   "source": [
    "p"
   ]
  },
  {
   "cell_type": "code",
   "execution_count": null,
   "metadata": {},
   "outputs": [],
   "source": []
  },
  {
   "cell_type": "code",
   "execution_count": null,
   "metadata": {},
   "outputs": [],
   "source": []
  },
  {
   "cell_type": "code",
   "execution_count": null,
   "metadata": {},
   "outputs": [],
   "source": []
  }
 ],
 "metadata": {
  "kernelspec": {
   "display_name": "deltaprot_design",
   "language": "python",
   "name": "python3"
  },
  "language_info": {
   "codemirror_mode": {
    "name": "ipython",
    "version": 3
   },
   "file_extension": ".py",
   "mimetype": "text/x-python",
   "name": "python",
   "nbconvert_exporter": "python",
   "pygments_lexer": "ipython3",
   "version": "3.8.18"
  }
 },
 "nbformat": 4,
 "nbformat_minor": 2
}
