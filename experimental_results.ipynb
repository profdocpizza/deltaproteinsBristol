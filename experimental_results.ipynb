{
 "cells": [
  {
   "cell_type": "code",
   "execution_count": 5,
   "metadata": {},
   "outputs": [
    {
     "name": "stdout",
     "output_type": "stream",
     "text": [
      "/home/tadas/code/deltaProteinFinder/dpFinder/deltaprot_finder_utils.py\n",
      "The autoreload extension is already loaded. To reload it, use:\n",
      "  %reload_ext autoreload\n"
     ]
    }
   ],
   "source": [
    "import pandas as pd\n",
    "import numpy as np\n",
    "import ampal\n",
    "from dp_utils.pipeline_data import get_full_pipeline_df\n",
    "from utils import useful_cols,sharing_cols\n",
    "import pandas\n",
    "# autoreload\n",
    "%load_ext autoreload\n",
    "%autoreload 2\n",
    "\n",
    "pandas.set_option(\"display.max_rows\", 60, \"display.max_columns\", None)"
   ]
  },
  {
   "cell_type": "code",
   "execution_count": 6,
   "metadata": {},
   "outputs": [],
   "source": [
    "from dp_utils.pipeline_data import get_pipeline_dp_finder_df\n",
    "from dpFinder.find_deltaprots import visualise_all_alignments\n",
    "\n",
    "\n",
    "# # dp_finder_df = get_pipeline_dp_finder_df(\"/home/tadas/code/deltaproteinsBristol/selected_deltaprots/variable_linkers/\")\n",
    "# dp_finder_df = get_pipeline_dp_finder_df(\"/home/tadas/code/random\")\n",
    "# # dp_finder_df.columns\n",
    "# visualise_all_alignments(dp_finder_df[:2])"
   ]
  },
  {
   "cell_type": "code",
   "execution_count": 9,
   "metadata": {},
   "outputs": [],
   "source": [
    "\n",
    "def generate_deltaprot_designs_data():\n",
    "\n",
    "    no_disulfide_df =pd.read_csv(\"/home/tadas/code/deltaproteinsBristol/selected_deltaprots/no_disulfide/no_disulfide_selected_deltaprots.csv\")\n",
    "    no_disulfide_whole_pipeline_df = get_full_pipeline_df(\"/home/tadas/code/deltaproteinsBristol/pipeline_data/05_evaluation\",get_dp_finder=None)\n",
    "\n",
    "    # merge no_disulfide_whole_pipeline_df into no_disulfide_df only where by model_sequence and sequence_name match. Also ignore duplicate columns\n",
    "    no_disulfide_df = pd.merge(no_disulfide_df, no_disulfide_whole_pipeline_df, how=\"left\", left_on=[\"sequence_name\", \"model_sequence\"], right_on=[\"sequence_name\", \"model_sequence\"], suffixes=(\"\", \"_whole_pipeline\"))\n",
    "    no_disulfide_df.drop(columns=[col for col in no_disulfide_df.columns if \"_whole_pipeline\" in col], inplace=True)\n",
    "    \n",
    "    no_disulfide_dp_finder_df = get_pipeline_dp_finder_df(\"/home/tadas/code/deltaproteinsBristol/selected_deltaprots/no_disulfide/\")\n",
    "    no_disulfide_df = pd.merge(\n",
    "        no_disulfide_df,\n",
    "        no_disulfide_dp_finder_df,\n",
    "        how=\"left\",\n",
    "        left_on=\"structure_prediction_file_name\",\n",
    "        right_on=\"dp_finder_filename\",\n",
    "        suffixes=(\"\", \"_dup\"),\n",
    "    )\n",
    "\n",
    "    variable_linkers_df = pd.read_csv(\"/home/tadas/code/deltaproteinsBristol/selected_deltaprots/variable_linkers/variable_linkers_selected_deltaprots.csv\")\n",
    "    variable_linkers_whole_pipeline_df = get_full_pipeline_df(\"/home/tadas/code/deltaproteinsBristol/pipeline_data/orientation_gap_length_optimisation_optimised\",get_dp_finder=False)\n",
    "\n",
    "    variable_linkers_df = pd.merge(variable_linkers_df, variable_linkers_whole_pipeline_df, how=\"left\", left_on=[\"sequence_name\", \"model_sequence\"], right_on=[\"sequence_name\", \"model_sequence\"], suffixes=(\"\", \"_whole_pipeline\"))\n",
    "    variable_linkers_df.drop(columns=[col for col in variable_linkers_df.columns if \"_whole_pipeline\" in col], inplace=True)\n",
    "    variable_linkers_dp_finder_df = get_pipeline_dp_finder_df(\"/home/tadas/code/deltaproteinsBristol/selected_deltaprots/variable_linkers/\")\n",
    "    variable_linkers_df = pd.merge(\n",
    "        variable_linkers_df,\n",
    "        variable_linkers_dp_finder_df,\n",
    "        how=\"left\",\n",
    "        left_on=\"structure_prediction_file_name\",\n",
    "        right_on=\"dp_finder_filename\",\n",
    "        suffixes=(\"\", \"_dup\"),\n",
    "    )\n",
    "\n",
    "    no_disulfide_df[\"name\"]=\"no_disulfide_\"+no_disulfide_df[\"orientation_code\"]\n",
    "    variable_linkers_df[\"name\"]=\"variable_linkers_\"+variable_linkers_df[\"orientation_code\"]\n",
    "\n",
    "    # merge the two piplene dataframes \n",
    "    df = pd.concat([no_disulfide_df, variable_linkers_df], axis=0)\n",
    "\n",
    "    well_df = pd.read_csv(\"/home/tadas/code/deltaproteinsBristol/order_optimised_codons_96_wp.csv\")\n",
    "\n",
    "    # merge well_df with df by Name and sort by Well Position\n",
    "    df = pd.merge(well_df, df, how=\"left\", left_on=\"Name\", right_on=\"name\")\n",
    "\n",
    "\n",
    "\n",
    "    # MGSSHHHHHHSSGENLYFQSGS addition adds some mw\n",
    "    df[\"model_sequence_w_prefix\"] = \"MGSSHHHHHHSSGENLYFQSGS\" + df[\"model_sequence\"]\n",
    "    df[\"mass_w_prefix\"] = df[\"model_sequence_w_prefix\"].apply(ampal.analyse_protein.sequence_molecular_weight)\n",
    "    df[\"sequence_molar_extinction_280_w_prefix\"] = df[\"model_sequence_w_prefix\"].apply(ampal.analyse_protein.sequence_molar_extinction_280)\n",
    "    \n",
    "    df[\"percent_helicity_with_prefix\"] = df[\"dssp_assignment\"].str.count(\"H\") / df[\"model_sequence_w_prefix\"].str.len()\n",
    "    \n",
    "    df.to_pickle(\"/home/tadas/code/deltaproteinsBristol/deltaprot_designs_data.pkl\")\n",
    "\n",
    "def load_deltaprot_designs_data():\n",
    "    return pd.read_pickle(\"/home/tadas/code/deltaproteinsBristol/deltaprot_designs_data.pkl\")\n",
    "\n",
    "def calc_molar_conc(ext_coef, absorbance):\n",
    "    return ext_coef / absorbance\n",
    "\n",
    "def calc_mg_per_ml(molar_conc, mass):\n",
    "    return molar_conc * mass"
   ]
  },
  {
   "cell_type": "code",
   "execution_count": 10,
   "metadata": {},
   "outputs": [
    {
     "name": "stdout",
     "output_type": "stream",
     "text": [
      "Percentage of rows with any nan: 10 %\n",
      "Percentage of rows with any nan: 13 %\n"
     ]
    },
    {
     "name": "stderr",
     "output_type": "stream",
     "text": [
      "\u001b[93mPerformanceWarning: DataFrame is highly fragmented.  This is usually the result of calling `frame.insert` many times, which has poor performance.  Consider joining all columns at once using pd.concat(axis=1) instead. To get a de-fragmented frame, use `newframe = frame.copy()`\u001b[0m\n",
      "\u001b[93mPerformanceWarning: DataFrame is highly fragmented.  This is usually the result of calling `frame.insert` many times, which has poor performance.  Consider joining all columns at once using pd.concat(axis=1) instead. To get a de-fragmented frame, use `newframe = frame.copy()`\u001b[0m\n",
      "\u001b[93mPerformanceWarning: DataFrame is highly fragmented.  This is usually the result of calling `frame.insert` many times, which has poor performance.  Consider joining all columns at once using pd.concat(axis=1) instead. To get a de-fragmented frame, use `newframe = frame.copy()`\u001b[0m\n",
      "\u001b[93mPerformanceWarning: DataFrame is highly fragmented.  This is usually the result of calling `frame.insert` many times, which has poor performance.  Consider joining all columns at once using pd.concat(axis=1) instead. To get a de-fragmented frame, use `newframe = frame.copy()`\u001b[0m\n"
     ]
    }
   ],
   "source": [
    "generate_deltaprot_designs_data()\n",
    "df = load_deltaprot_designs_data()\n"
   ]
  },
  {
   "cell_type": "code",
   "execution_count": 16,
   "metadata": {},
   "outputs": [],
   "source": [
    "# visualise_all_alignments(df[10:20])"
   ]
  },
  {
   "cell_type": "code",
   "execution_count": null,
   "metadata": {},
   "outputs": [],
   "source": [
    "[i for i in df.columns if i.startswith(\"dp\")]\n"
   ]
  },
  {
   "cell_type": "code",
   "execution_count": 5,
   "metadata": {},
   "outputs": [
    {
     "ename": "NameError",
     "evalue": "name 'df' is not defined",
     "output_type": "error",
     "traceback": [
      "\u001b[0;31m---------------------------------------------------------------------------\u001b[0m",
      "\u001b[0;31mNameError\u001b[0m                                 Traceback (most recent call last)",
      "Cell \u001b[0;32mIn[5], line 1\u001b[0m\n\u001b[0;32m----> 1\u001b[0m \u001b[43mdf\u001b[49m\u001b[38;5;241m.\u001b[39miloc[\u001b[38;5;241m20\u001b[39m][[\u001b[38;5;124m'\u001b[39m\u001b[38;5;124mdp_finder_total_cost_norm\u001b[39m\u001b[38;5;124m'\u001b[39m,\n\u001b[1;32m      2\u001b[0m  \u001b[38;5;124m'\u001b[39m\u001b[38;5;124mdp_finder_filename\u001b[39m\u001b[38;5;124m'\u001b[39m,\n\u001b[1;32m      3\u001b[0m  \u001b[38;5;124m'\u001b[39m\u001b[38;5;124mdp_finder_helix_axes\u001b[39m\u001b[38;5;124m'\u001b[39m,\n\u001b[1;32m      4\u001b[0m  \u001b[38;5;124m'\u001b[39m\u001b[38;5;124mdp_finder_orientation_code\u001b[39m\u001b[38;5;124m'\u001b[39m,\n\u001b[1;32m      5\u001b[0m  \u001b[38;5;124m'\u001b[39m\u001b[38;5;124mdp_finder_rotation_matrix\u001b[39m\u001b[38;5;124m'\u001b[39m,\n\u001b[1;32m      6\u001b[0m  \u001b[38;5;124m'\u001b[39m\u001b[38;5;124mdp_finder_primary_scale\u001b[39m\u001b[38;5;124m'\u001b[39m,\n\u001b[1;32m      7\u001b[0m  \u001b[38;5;124m'\u001b[39m\u001b[38;5;124mdp_finder_fine_scale\u001b[39m\u001b[38;5;124m'\u001b[39m,\n\u001b[1;32m      8\u001b[0m  \u001b[38;5;124m'\u001b[39m\u001b[38;5;124mdp_finder_total_scale\u001b[39m\u001b[38;5;124m'\u001b[39m,\n\u001b[1;32m      9\u001b[0m  \u001b[38;5;124m'\u001b[39m\u001b[38;5;124mdp_finder_translation_matrix\u001b[39m\u001b[38;5;124m'\u001b[39m,\n\u001b[1;32m     10\u001b[0m  \u001b[38;5;124m'\u001b[39m\u001b[38;5;124mdp_finder_total_transformation_matrix\u001b[39m\u001b[38;5;124m'\u001b[39m,\n\u001b[1;32m     11\u001b[0m  \u001b[38;5;124m'\u001b[39m\u001b[38;5;124mdp_finder_sliding_rmsd\u001b[39m\u001b[38;5;124m'\u001b[39m,\n\u001b[1;32m     12\u001b[0m  \u001b[38;5;124m'\u001b[39m\u001b[38;5;124mdp_finder_rmsd\u001b[39m\u001b[38;5;124m'\u001b[39m,\n\u001b[1;32m     13\u001b[0m  \u001b[38;5;124m'\u001b[39m\u001b[38;5;124mdp_finder_best_angle_error\u001b[39m\u001b[38;5;124m'\u001b[39m,\n\u001b[1;32m     14\u001b[0m  \u001b[38;5;124m'\u001b[39m\u001b[38;5;124mdp_finder_assignment_indices\u001b[39m\u001b[38;5;124m'\u001b[39m,\n\u001b[1;32m     15\u001b[0m  \u001b[38;5;124m'\u001b[39m\u001b[38;5;124mdp_finder_transformed_orientation_data\u001b[39m\u001b[38;5;124m'\u001b[39m,\n\u001b[1;32m     16\u001b[0m  \u001b[38;5;124m'\u001b[39m\u001b[38;5;124mdp_finder_total_unassigned_axes\u001b[39m\u001b[38;5;124m'\u001b[39m,\n\u001b[1;32m     17\u001b[0m  \u001b[38;5;124m'\u001b[39m\u001b[38;5;124mdp_finder_total_cost\u001b[39m\u001b[38;5;124m'\u001b[39m,\n\u001b[1;32m     18\u001b[0m  \u001b[38;5;124m'\u001b[39m\u001b[38;5;124mdp_finder_lowest_cost_orientation\u001b[39m\u001b[38;5;124m'\u001b[39m,\n\u001b[1;32m     19\u001b[0m  \u001b[38;5;124m'\u001b[39m\u001b[38;5;124mdp_finder_best_fit_orientation_expected\u001b[39m\u001b[38;5;124m'\u001b[39m]]\n",
      "\u001b[0;31mNameError\u001b[0m: name 'df' is not defined"
     ]
    }
   ],
   "source": [
    "df.iloc[20][['dp_finder_total_cost_norm',\n",
    " 'dp_finder_filename',\n",
    " 'dp_finder_helix_axes',\n",
    " 'dp_finder_orientation_code',\n",
    " 'dp_finder_rotation_matrix',\n",
    " 'dp_finder_primary_scale',\n",
    " 'dp_finder_fine_scale',\n",
    " 'dp_finder_total_scale',\n",
    " 'dp_finder_translation_matrix',\n",
    " 'dp_finder_total_transformation_matrix',\n",
    " 'dp_finder_sliding_rmsd',\n",
    " 'dp_finder_rmsd',\n",
    " 'dp_finder_best_angle_error',\n",
    " 'dp_finder_assignment_indices',\n",
    " 'dp_finder_transformed_orientation_data',\n",
    " 'dp_finder_total_unassigned_axes',\n",
    " 'dp_finder_total_cost',\n",
    " 'dp_finder_lowest_cost_orientation',\n",
    " 'dp_finder_best_fit_orientation_expected']]"
   ]
  },
  {
   "cell_type": "code",
   "execution_count": null,
   "metadata": {},
   "outputs": [],
   "source": [
    "df.orientation_code"
   ]
  },
  {
   "cell_type": "code",
   "execution_count": null,
   "metadata": {},
   "outputs": [],
   "source": [
    "df[df.name.str.startswith(\"no_disulfide_\")].dp_finder_total_scale.hist()\n",
    "df[df.name.str.startswith(\"variable\")].dp_finder_total_scale.hist()\n"
   ]
  },
  {
   "cell_type": "code",
   "execution_count": null,
   "metadata": {},
   "outputs": [],
   "source": [
    "\n",
    "# populate received_from_idt column. Received everything except for C2,C4,D5,D6,F2,F3,F6\n",
    "\n",
    "\n",
    "not_received = ['C2', 'C4', 'D5', 'D6', 'F2', 'F3', 'F6']\n",
    "df['received_from_idt'] = ~df[\"Well Position\"].isin(not_received)\n",
    "\n",
    "# populate transformation_attempted for (A1-A12,B1-B12,C1,C3,F4,C5,C6)\n",
    "transformation_attempted_ids = set([f\"A{i}\" for i in range(1, 13)] +\n",
    "                    [f\"B{i}\" for i in range(1, 13)] +\n",
    "                    ['C1', 'C3', 'F4', 'C5', 'C6'])\n",
    "df['transformation_attempted'] = df[\"Well Position\"].isin(transformation_attempted_ids)\n",
    "df['transformation_successful'] = df[\"Well Position\"].isin(transformation_attempted_ids) # all transformations worked, C6 failed initially\n",
    "\n",
    "# populate expression_levels: (None, \"low\",\"medium\",\"high\") low: A1,A3,A6,A7,A8,A10,B1. Medium: A5,A11,B2,B3. High: A9,A12\n",
    "\n",
    "\n",
    "expr_map = {\n",
    "    # TODO , 'C6' was transformed later, but not yet tested\n",
    "    **dict.fromkeys(['A2', 'A4', 'B5', 'B6', 'B7', 'B9', 'B11', 'C5'], 'none'), \n",
    "    **dict.fromkeys(['A1','A3', 'A6', 'A8', 'B1','B4', 'B10','C3'], 'low'),\n",
    "    **dict.fromkeys(['A7', 'A10','B12','C1','F4'], 'medium'),\n",
    "    **dict.fromkeys(['A11', 'B2', 'B3','A5'], 'high'),\n",
    "    **dict.fromkeys(['A9', 'A12', 'B8'], 'super_high')\n",
    "}\n",
    "df['expression_levels'] = df[\"Well Position\"].map(expr_map)\n",
    "\n",
    "# populate sds_page_size_appearance for every visible band?\n",
    "# TODO\n",
    "\n",
    "# populate large_scale_expressed for A12,A9,B8,A1,B12,F4\n",
    "scaled_expressed_ids = ['A12','A9','B8','A1','B12','F4',\"A11\",\"B3\",\"B10\"]\n",
    "df['large_scale_expressed'] = df[\"Well Position\"].isin(scaled_expressed_ids)\n",
    "\n",
    "# populate scaled_purified for A12,A9,B8 TODO add ,'A1','B12','F4'\n",
    "# scaled_purified_ids = ['A12','A9','B8'] \\\n",
    "\n",
    "# Note: A9,B8 had some aggregation (small pellet after spining down). A12 did not\n",
    "\n",
    "A280_after_NI_NTA_IMAC = {\n",
    "    \"A12\": 13.41,\n",
    "    \"A9\": 6.2,\n",
    "    \"B8\": 16.11,\n",
    "    #\"A1\" Not Measured, \n",
    "    #\"B12\" Not Measured, \n",
    "    #\"F4\": Not Measured, \n",
    "    \"A11\":6.565,\n",
    "    \"B3\":9.067,\n",
    "    \"B10\":5.780,\n",
    "}\n",
    "\n",
    "\n",
    "df['A280_after_NI_NTA_IMAC'] = df[\"Well Position\"].map(A280_after_NI_NTA_IMAC)\n",
    "volume_after_NI_NTA_IMAC = 3.2\n",
    "# calculate molar conc asuming sample is entirely my protein df.sequence_molar_extinction_280\n",
    "\n",
    "df['molar_conc_after_NI_NTA_IMAC'] = df['A280_after_NI_NTA_IMAC'] / df['sequence_molar_extinction_280_w_prefix']\n",
    "df['mg_per_ml_after_NI_NTA_IMAC'] = df['molar_conc_after_NI_NTA_IMAC'] * df['mass_w_prefix']\n",
    "df['mg_after_NI_NTA_IMAC'] = df['mg_per_ml_after_NI_NTA_IMAC'] * volume_after_NI_NTA_IMAC\n",
    "\n",
    "# after SEC (central fractions)\n",
    "A280_after_SEC = {\n",
    "    \"A12\": 4.93,\n",
    "    \"A9\": 2.18,\n",
    "    \"B8\": 6.758,\n",
    "    \"A1\": 0.820,\n",
    "    \"B12\": 2.510,\n",
    "    \"F4\": 2.427, \n",
    "    \"A11\":2.478,\n",
    "    \"B3\":2.939,\n",
    "    \"B10\":2.556,\n",
    "}\n",
    "volume_after_sec = {\n",
    "    \"A12\": 5.1,\n",
    "    \"A9\": 5.1,\n",
    "    \"B8\": 3.4,\n",
    "    \"A1\": 3.4,\n",
    "    \"B12\": 5.1,\n",
    "    \"F4\": 5.1,\n",
    "    \"A11\": 5.1,\n",
    "    \"B3\":3.4,\n",
    "    \"B10\":3.4,\n",
    "}\n",
    "df[\"volume_after_sec\"] = df[\"Well Position\"].map(volume_after_sec)\n",
    "\n",
    "df['A280_after_SEC'] = df[\"Well Position\"].map(A280_after_SEC)\n",
    "df['molar_conc_after_SEC'] = df['A280_after_SEC'] / df['sequence_molar_extinction_280_w_prefix']\n",
    "df['mg_per_ml_after_SEC'] = df['molar_conc_after_SEC'] * df['mass_w_prefix']\n",
    "df['mg_after_SEC'] = df['mg_per_ml_after_SEC'] * df['volume_after_sec']\n",
    "\n",
    "\n",
    "# Biophysical characterisation info (CD and biophysical SEC used same sample. Was assumed it is 20 uM, however it was a bit less.)\n",
    "cd_sample_A280 = {\n",
    "    \"A12\": 0.395, # later measure: 0.406\n",
    "    \"A9\": 0.168, # later measure: 0.190\n",
    "    \"B8\": 0.517, # later measure: 0.537\n",
    "    \"A1\":0.173,\n",
    "    \"B12\": 0.210,\n",
    "    \"F4\": 0.211,\n",
    "    \"A11\": 0.569,\n",
    "    \"B3\":0.764,\n",
    "    \"B10\":0.175,\n",
    "}\n",
    "\n",
    "df[\"cd_sample_A280\"] = df[\"Well Position\"].map(cd_sample_A280)\n",
    "df[\"cd_sample_molar_conc\"] = df[\"cd_sample_A280\"] / df[\"sequence_molar_extinction_280_w_prefix\"]\n",
    "df[\"cd_path_length_mm\"]=1\n",
    "\n",
    "saxs_submitted_samples = [\"A1\",\"A9\",\"A12\",\"B8\",\"B12\",\"F4\"]\n",
    "\n",
    "df[\"saxs_submitted\"] = df[\"Well Position\"].isin(saxs_submitted_samples)\n",
    "\n",
    "# crystal screens set up with 3+3 uL\n",
    "\n",
    "    # # plate 1, position 2:\n",
    "    # \"B12\": 19.19,\n",
    "\n",
    "    # # plate 2, position 1:\n",
    "    # \"A12\": 36.56,\n",
    "    # # plate 2, position 2:\n",
    "    # \"B8\": 43.35,\n",
    "\n",
    "    # # plate 3, position 1:\n",
    "    # \"A1\": 13.82,\n",
    "    # # plate 3, position 2:\n",
    "    # \"B3\": 37.62,\n",
    "crystal_screens_info = {\n",
    "    # plate 1, position 1:\n",
    "    \"A9\": {\n",
    "        \"plate\": 1,\n",
    "        \"position\": 1,\n",
    "        \"date\": \"2025-04-11\",\n",
    "        \"A280\": 19.40\n",
    "        # looped\n",
    "    },\n",
    "    \"B12\":{\n",
    "        \"plate\": 1,\n",
    "        \"position\": 2,\n",
    "        \"date\": \"2025-04-11\",\n",
    "        \"A280\": 19.19\n",
    "        # looped\n",
    "    },\n",
    "    \"A12\":{\n",
    "        \"plate\": 2,\n",
    "        \"position\": 1,\n",
    "        \"date\": \"2025-04-14\",\n",
    "        \"A280\": 36.56\n",
    "    },\n",
    "    \"B8\":{\n",
    "        \"plate\": 2,\n",
    "        \"position\": 2,\n",
    "        \"date\": \"2025-04-14\",\n",
    "        \"A280\": 43.35\n",
    "    },\n",
    "    \"A1\":{\n",
    "        \"plate\": 3,\n",
    "        \"position\": 1,\n",
    "        \"date\": \"2025-04-17\",\n",
    "        \"A280\": 13.82\n",
    "        # looped just single crystal, not so good\n",
    "    },\n",
    "    \"B3\":{\n",
    "        \"plate\": 3,\n",
    "        \"position\": 2,\n",
    "        \"date\": \"2025-04-17\",\n",
    "        \"A280\": 37.62\n",
    "    }\n",
    "}\n",
    "# unpack all of these columns to df\n",
    "df[\"crystal_screens_info\"] = df[\"Well Position\"].map(crystal_screens_info)\n",
    "crystal_keys = [\"plate\", \"position\", \"date\", \"A280\"]\n",
    "for key in crystal_keys:\n",
    "    df[f\"crystal_{key}\"] = df[\"crystal_screens_info\"].map(lambda x: x.get(key) if isinstance(x, dict) else None)\n",
    "\n",
    "# Drop original nested column\n",
    "df.drop(columns=[\"crystal_screens_info\"], inplace=True)\n",
    "# calculate crystal_mg_per_ml\n",
    "# df['molar_conc_after_SEC'] = df['A280_after_SEC'] / df['sequence_molar_extinction_280_w_prefix']\n",
    "# df['mg_per_ml_after_SEC'] = df['molar_conc_after_SEC'] * df['mass_w_prefix']\n",
    "df[\"crystal_molar_conc\"] = df[\"crystal_A280\"] / df[\"sequence_molar_extinction_280_w_prefix\"]\n",
    "df[\"crystal_mg_per_ml\"] = df[\"crystal_molar_conc\"] * df[\"mass_w_prefix\"]\n",
    "\n",
    "\n",
    "# df[\"mg_per_ml_crystal_screens\"] = df[\"crystal_screens_info\"].map(lambda x: x[\"mg_per_ml\"] if x else np.nan)\n",
    "# df[\"plate_crystal_screens\"] = df[\"crystal_screens_info\"].map(lambda x: x[\"plate\"] if x else np.nan)\n",
    "# df[\"position_crystal_screens\"] = df[\"crystal_screens_info\"].map(lambda x: x[\"position\"] if x else np.nan)\n",
    "# df[\"date_crystal_screens\"] = df[\"crystal_screens_info\"].map(lambda x: x[\"date\"] if x else np.nan)\n",
    "    \n",
    "                 \n",
    "experimental_cols = [\n",
    "    \"model_sequence_w_prefix\",\n",
    "    \"mass_w_prefix\",\n",
    "    \"sequence_molar_extinction_280_w_prefix\",\n",
    "    \"received_from_idt\",\n",
    "    \"transformation_attempted\",\n",
    "    \"transformation_successful\",\n",
    "    \"expression_levels\",\n",
    "    \"large_scale_expressed\",\n",
    "    \"A280_after_NI_NTA_IMAC\",\n",
    "    \"molar_conc_after_NI_NTA_IMAC\",\n",
    "    \"mg_per_ml_after_NI_NTA_IMAC\",\n",
    "    \"mg_after_NI_NTA_IMAC\",\n",
    "    \"volume_after_sec\",\n",
    "    \"A280_after_SEC\",\n",
    "    \"molar_conc_after_SEC\",\n",
    "    \"mg_per_ml_after_SEC\",\n",
    "    \"mg_after_SEC\",\n",
    "    \"cd_sample_A280\",\n",
    "    \"cd_sample_molar_conc\",\n",
    "    \"cd_path_length_mm\",\n",
    "    \"saxs_submitted\",\n",
    "    \"crystal_plate\", \"crystal_position\", \"crystal_date\", \"crystal_A280\",\"crystal_molar_conc\",\"crystal_mg_per_ml\"\n",
    "    # \"scaled_purified\" is mentioned but not actually created\n",
    "]\n"
   ]
  },
  {
   "cell_type": "code",
   "execution_count": null,
   "metadata": {},
   "outputs": [],
   "source": [
    "df[useful_cols+experimental_cols].to_csv(\"/home/tadas/code/deltaproteinsBristol/experimental_results/deltaprot_designs_data_with_results.csv\", index=False)\n",
    "df[sharing_cols+experimental_cols].to_csv(\"/home/tadas/code/deltaproteinsBristol/experimental_results/deltaprot_designs_data_with_results_minimised.csv\", index=False)\n",
    "df.to_pickle(\"/home/tadas/code/deltaproteinsBristol/deltaprot_designs_all_data_with_results.pkl\")"
   ]
  },
  {
   "cell_type": "code",
   "execution_count": null,
   "metadata": {},
   "outputs": [],
   "source": [
    "df[df[\"large_scale_expressed\"]][[\"Well Position\",\"crystal_plate\"]]"
   ]
  },
  {
   "cell_type": "code",
   "execution_count": null,
   "metadata": {},
   "outputs": [],
   "source": [
    "df[df['large_scale_expressed']][[\"Well Position\",\"Name\",\"mass_w_prefix\",\"expression_levels\",\"mg_per_ml_after_SEC\",\"mg_after_SEC\",\"molar_conc_after_SEC\",\"cd_sample_molar_conc\"]]"
   ]
  },
  {
   "cell_type": "code",
   "execution_count": null,
   "metadata": {},
   "outputs": [],
   "source": [
    "df"
   ]
  },
  {
   "cell_type": "code",
   "execution_count": null,
   "metadata": {},
   "outputs": [],
   "source": [
    "# set limit to column width\n",
    "pd.set_option('display.max_colwidth', 1)"
   ]
  },
  {
   "cell_type": "code",
   "execution_count": null,
   "metadata": {},
   "outputs": [],
   "source": [
    "df[[\"Well Position\",\"cd_sample_molar_conc\",\"Name\",\"expression_levels\"]]"
   ]
  },
  {
   "cell_type": "code",
   "execution_count": null,
   "metadata": {},
   "outputs": [],
   "source": [
    "df[[\"Well Position\",\"cd_sample_molar_conc\",\"Name\",\"A280_after_SEC\",\"volume_after_sec\",\"sequence_molar_extinction_280_w_prefix\",\"molar_conc_after_SEC\",\"mg_per_ml_after_SEC\",\"mg_after_SEC\"]]"
   ]
  },
  {
   "cell_type": "code",
   "execution_count": null,
   "metadata": {},
   "outputs": [],
   "source": [
    "df[[\"Well Position\",\"Name\",\"mass\",\"mass_w_prefix\",\"charge\",\"A280_after_SEC\",\"volume_after_sec\",\"sequence_molar_extinction_280_w_prefix\",\"molar_conc_after_NI_NTA_IMAC\",\"molar_conc_after_SEC\",\"mg_per_ml_after_SEC\",\"mg_after_SEC\"]]"
   ]
  },
  {
   "cell_type": "code",
   "execution_count": null,
   "metadata": {},
   "outputs": [],
   "source": [
    "# mass correct: A9, A11, B2, C1, F4, B12\n",
    "# mass questionable: A12 (has 2 bands), B3 (2 bands)\n",
    "# mass wrong: "
   ]
  },
  {
   "cell_type": "code",
   "execution_count": null,
   "metadata": {},
   "outputs": [],
   "source": [
    "# unlimit pandas column display number\n",
    "pd.set_option('display.max_columns', None)"
   ]
  },
  {
   "cell_type": "code",
   "execution_count": null,
   "metadata": {},
   "outputs": [],
   "source": [
    "df[df[\"transformation_successful\"] & df[\"expression_levels\"].isin([\"low\",\"medium\",\"high\",\"super_high\", np.nan]) & ~df[\"large_scale_expressed\"]][[\"Well Position\",\"Name\",\"expression_levels\"]]"
   ]
  },
  {
   "cell_type": "code",
   "execution_count": null,
   "metadata": {},
   "outputs": [],
   "source": [
    "df[df[\"expression_levels\"].isin([\"low\",\"medium\",\"high\",\"super_high\"])].sort_values([\"large_scale_expressed\",\"expression_levels\"],ascending=[False,True])[[\"Well Position\",\"Name\",\"mass_w_prefix\",\"expression_levels\",\"large_scale_expressed\"]]"
   ]
  },
  {
   "cell_type": "code",
   "execution_count": null,
   "metadata": {},
   "outputs": [],
   "source": [
    "df[df[\"expression_levels\"].isin([\"low\",\"medium\",\"high\",\"super_high\"]) & ~df[\"large_scale_expressed\"]][ [\"Well Position\",\"expression_levels\"]]"
   ]
  },
  {
   "cell_type": "code",
   "execution_count": null,
   "metadata": {},
   "outputs": [],
   "source": [
    "df[df[\"expression_levels\"].isin([\"low\",\"medium\",\"high\",\"super_high\"])]"
   ]
  },
  {
   "cell_type": "code",
   "execution_count": null,
   "metadata": {},
   "outputs": [],
   "source": [
    "df[df[\"expression_levels\"].isin([\"low\"])][\"Well Position\"]\n"
   ]
  },
  {
   "cell_type": "code",
   "execution_count": null,
   "metadata": {},
   "outputs": [],
   "source": [
    "# Choices for large scale expression\n",
    "\n",
    "# A12\tno_disulfide_b5ininn super_high\n",
    "# A9\tno_disulfide_b4nnnny\n",
    "# B8\tno_disulfide_h6i_i_i\n",
    "\n",
    "# A1 no_disulfide_b3iii (low-medium)\n",
    "# B12\tno_disulfide_l5iiin (medium)\n",
    "# F4\tvariable_linkers_l6innni\t(medium)\n"
   ]
  },
  {
   "cell_type": "code",
   "execution_count": null,
   "metadata": {},
   "outputs": [],
   "source": []
  },
  {
   "cell_type": "code",
   "execution_count": null,
   "metadata": {},
   "outputs": [],
   "source": []
  },
  {
   "cell_type": "code",
   "execution_count": null,
   "metadata": {},
   "outputs": [],
   "source": []
  },
  {
   "cell_type": "code",
   "execution_count": null,
   "metadata": {},
   "outputs": [],
   "source": [
    "p"
   ]
  },
  {
   "cell_type": "code",
   "execution_count": null,
   "metadata": {},
   "outputs": [],
   "source": []
  },
  {
   "cell_type": "code",
   "execution_count": null,
   "metadata": {},
   "outputs": [],
   "source": []
  },
  {
   "cell_type": "code",
   "execution_count": null,
   "metadata": {},
   "outputs": [],
   "source": []
  }
 ],
 "metadata": {
  "kernelspec": {
   "display_name": "deltaprot_design",
   "language": "python",
   "name": "python3"
  },
  "language_info": {
   "codemirror_mode": {
    "name": "ipython",
    "version": 3
   },
   "file_extension": ".py",
   "mimetype": "text/x-python",
   "name": "python",
   "nbconvert_exporter": "python",
   "pygments_lexer": "ipython3",
   "version": "3.8.18"
  }
 },
 "nbformat": 4,
 "nbformat_minor": 2
}
