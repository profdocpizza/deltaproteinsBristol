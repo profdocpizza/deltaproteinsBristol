{
 "cells": [
  {
   "cell_type": "code",
   "execution_count": null,
   "metadata": {},
   "outputs": [],
   "source": [
    "import pandas as pd\n",
    "import numpy as np\n",
    "import ampal\n",
    "from dp_utils.pipeline_data import get_full_pipeline_df\n",
    "from utils import useful_cols,useful_cols_non_csv\n",
    "import pandas\n",
    "\n",
    "pandas.set_option(\"display.max_rows\", None, \"display.max_columns\", None)"
   ]
  },
  {
   "cell_type": "code",
   "execution_count": null,
   "metadata": {},
   "outputs": [],
   "source": [
    "\n",
    "def generate_deltaprot_designs_data():\n",
    "\n",
    "    no_disulfide_df =pd.read_csv(\"/home/tadas/code/deltaproteinsBristol/selected_deltaprots/no_disulfide/no_disulfide_selected_deltaprots.csv\")\n",
    "    no_disulfide_whole_pipeline_df = get_full_pipeline_df(\"/home/tadas/code/deltaproteinsBristol/pipeline_data/05_evaluation\")\n",
    "    # merge no_disulfide_whole_pipeline_df into no_disulfide_df only where by model_sequence and sequence_name match. Also ignore duplicate columns\n",
    "    no_disulfide_df = pd.merge(no_disulfide_df, no_disulfide_whole_pipeline_df, how=\"left\", left_on=[\"sequence_name\", \"model_sequence\"], right_on=[\"sequence_name\", \"model_sequence\"], suffixes=(\"\", \"_whole_pipeline\"))\n",
    "    no_disulfide_df.drop(columns=[col for col in no_disulfide_df.columns if \"_whole_pipeline\" in col], inplace=True)\n",
    "\n",
    "\n",
    "    variable_linkers_df = pd.read_csv(\"/home/tadas/code/deltaproteinsBristol/selected_deltaprots/variable_linkers/variable_linkers/variable_linkers_selected_deltaprots.csv\")\n",
    "    variable_linkers_whole_pipeline_df = get_full_pipeline_df(\"/home/tadas/code/deltaproteinsBristol/pipeline_data/orientation_gap_length_optimisation_optimised\")\n",
    "    variable_linkers_df = pd.merge(variable_linkers_df, variable_linkers_whole_pipeline_df, how=\"left\", left_on=[\"sequence_name\", \"model_sequence\"], right_on=[\"sequence_name\", \"model_sequence\"], suffixes=(\"\", \"_whole_pipeline\"))\n",
    "    variable_linkers_df.drop(columns=[col for col in variable_linkers_df.columns if \"_whole_pipeline\" in col], inplace=True)\n",
    "\n",
    "\n",
    "    no_disulfide_df[\"name\"]=\"no_disulfide_\"+no_disulfide_df[\"orientation_code\"]\n",
    "    variable_linkers_df[\"name\"]=\"variable_linkers_\"+variable_linkers_df[\"orientation_code\"]\n",
    "\n",
    "    # merge the two piplene dataframes \n",
    "    df = pd.concat([no_disulfide_df, variable_linkers_df], axis=0)\n",
    "\n",
    "    well_df = pd.read_csv(\"/home/tadas/code/deltaproteinsBristol/order_optimised_codons_96_wp.csv\")\n",
    "\n",
    "    # merge well_df with df by Name and sort by Well Position\n",
    "    df = pd.merge(well_df, df, how=\"left\", left_on=\"Name\", right_on=\"name\")\n",
    "\n",
    "\n",
    "\n",
    "    # MGSSHHHHHHSSGENLYFQSGS addition adds some mw\n",
    "    df[\"model_sequence_w_prefix\"] = \"MGSSHHHHHHSSGENLYFQSGS\" + df[\"model_sequence\"]\n",
    "    df[\"mass_w_prefix\"] = df[\"model_sequence_w_prefix\"].apply(ampal.analyse_protein.sequence_molecular_weight)\n",
    "    df[\"sequence_molar_extinction_280_w_prefix\"] = df[\"model_sequence_w_prefix\"].apply(ampal.analyse_protein.sequence_molar_extinction_280)\n",
    "    \n",
    "    df[\"percent_helicity_with_prefix\"] = df[\"dssp_assignment\"].str.count(\"H\") / df[\"model_sequence_w_prefix\"].str.len()\n",
    "    \n",
    "    df.to_pickle(\"/home/tadas/code/deltaproteinsBristol/deltaprot_designs_data.pkl\")\n",
    "\n",
    "def load_deltaprot_designs_data():\n",
    "    return pd.read_pickle(\"/home/tadas/code/deltaproteinsBristol/deltaprot_designs_data.pkl\")\n",
    "\n",
    "def calc_molar_conc(ext_coef, absorbance):\n",
    "    return ext_coef / absorbance\n",
    "\n",
    "def calc_mg_per_ml(molar_conc, mass):\n",
    "    return molar_conc * mass"
   ]
  },
  {
   "cell_type": "code",
   "execution_count": null,
   "metadata": {},
   "outputs": [],
   "source": [
    "generate_deltaprot_designs_data()\n",
    "df = load_deltaprot_designs_data()\n"
   ]
  },
  {
   "cell_type": "code",
   "execution_count": null,
   "metadata": {},
   "outputs": [],
   "source": []
  },
  {
   "cell_type": "code",
   "execution_count": null,
   "metadata": {},
   "outputs": [],
   "source": [
    "\n",
    "# populate received_from_idt column. Received everything except for C2,C4,D5,D6,F2,F3,F6\n",
    "\n",
    "\n",
    "not_received = ['C2', 'C4', 'D5', 'D6', 'F2', 'F3', 'F6']\n",
    "df['received_from_idt'] = ~df[\"Well Position\"].isin(not_received)\n",
    "\n",
    "# populate transformation_attempted for (A1-A12,B1-B12,C1,C3,F4,C5,C6)\n",
    "transformation_attempted_ids = set([f\"A{i}\" for i in range(1, 13)] +\n",
    "                    [f\"B{i}\" for i in range(1, 13)] +\n",
    "                    ['C1', 'C3', 'F4', 'C5', 'C6'])\n",
    "df['transformation_attempted'] = df[\"Well Position\"].isin(transformation_attempted_ids)\n",
    "df['transformation_successful'] = df[\"Well Position\"].isin(transformation_attempted_ids) # all transformations worked, C6 failed initially\n",
    "\n",
    "# populate expression_levels: (None, \"low\",\"medium\",\"high\") low: A1,A3,A6,A7,A8,A10,B1. Medium: A5,A11,B2,B3. High: A9,A12\n",
    "\n",
    "\n",
    "expr_map = {\n",
    "    # TODO , 'C6' was transformed later, but not yet tested\n",
    "    **dict.fromkeys(['A2', 'A4', 'B5', 'B6', 'B7', 'B9', 'B11', 'C5'], 'none'), \n",
    "    **dict.fromkeys(['A1','A3', 'A6', 'A8', 'B1','B4', 'B10','C3'], 'low'),\n",
    "    **dict.fromkeys(['A7', 'A10','B12','C1','F4'], 'medium'),\n",
    "    **dict.fromkeys(['A11', 'B2', 'B3','A5'], 'high'),\n",
    "    **dict.fromkeys(['A9', 'A12', 'B8'], 'super_high')\n",
    "}\n",
    "df['expression_levels'] = df[\"Well Position\"].map(expr_map)\n",
    "\n",
    "# populate sds_page_size_appearance for every visible band?\n",
    "# TODO\n",
    "\n",
    "# populate large_scale_expressed for A12,A9,B8,A1,B12,F4\n",
    "scaled_expressed_ids = ['A12','A9','B8','A1','B12','F4',\"A11\",\"B3\",\"B10\"]\n",
    "df['large_scale_expressed'] = df[\"Well Position\"].isin(scaled_expressed_ids)\n",
    "\n",
    "# populate scaled_purified for A12,A9,B8 TODO add ,'A1','B12','F4'\n",
    "# scaled_purified_ids = ['A12','A9','B8'] \\\n",
    "\n",
    "# Note: A9,B8 had some aggregation (small pellet after spining down). A12 did not\n",
    "\n",
    "A280_after_NI_NTA_IMAC = {\n",
    "    \"A12\": 13.41,\n",
    "    \"A9\": 6.2,\n",
    "    \"B8\": 16.11,\n",
    "    #\"A1\" Not Measured, \n",
    "    #\"B12\" Not Measured, \n",
    "    #\"F4\": Not Measured, \n",
    "    \"A11\":6.565,\n",
    "    \"B3\":9.067,\n",
    "    \"B10\":5.780,\n",
    "}\n",
    "\n",
    "\n",
    "df['A280_after_NI_NTA_IMAC'] = df[\"Well Position\"].map(A280_after_NI_NTA_IMAC)\n",
    "volume_after_NI_NTA_IMAC = 3.2\n",
    "# calculate molar conc asuming sample is entirely my protein df.sequence_molar_extinction_280\n",
    "\n",
    "df['molar_conc_after_NI_NTA_IMAC'] = df['A280_after_NI_NTA_IMAC'] / df['sequence_molar_extinction_280_w_prefix']\n",
    "df['mg_per_ml_after_NI_NTA_IMAC'] = df['molar_conc_after_NI_NTA_IMAC'] * df['mass_w_prefix']\n",
    "df['mg_after_NI_NTA_IMAC'] = df['mg_per_ml_after_NI_NTA_IMAC'] * volume_after_NI_NTA_IMAC\n",
    "\n",
    "# after SEC (central fractions)\n",
    "A280_after_SEC = {\n",
    "    \"A12\": 4.93,\n",
    "    \"A9\": 2.18,\n",
    "    \"B8\": 6.758,\n",
    "    \"A1\": 0.820,\n",
    "    \"B12\": 2.510,\n",
    "    \"F4\": 2.427, \n",
    "    \"A11\":2.478,\n",
    "    \"B3\":2.939,\n",
    "    \"B10\":2.556,\n",
    "}\n",
    "volume_after_sec = {\n",
    "    \"A12\": 5.1,\n",
    "    \"A9\": 5.1,\n",
    "    \"B8\": 3.4,\n",
    "    \"A1\": 3.4,\n",
    "    \"B12\": 5.1,\n",
    "    \"F4\": 5.1,\n",
    "    \"A11\": 5.1,\n",
    "    \"B3\":3.4,\n",
    "    \"B10\":3.4,\n",
    "}\n",
    "df[\"volume_after_sec\"] = df[\"Well Position\"].map(volume_after_sec)\n",
    "\n",
    "df['A280_after_SEC'] = df[\"Well Position\"].map(A280_after_SEC)\n",
    "df['molar_conc_after_SEC'] = df['A280_after_SEC'] / df['sequence_molar_extinction_280_w_prefix']\n",
    "df['mg_per_ml_after_SEC'] = df['molar_conc_after_SEC'] * df['mass_w_prefix']\n",
    "df['mg_after_SEC'] = df['mg_per_ml_after_SEC'] * df['volume_after_sec']\n",
    "\n",
    "\n",
    "# Biophysical characterisation info (CD and biophysical SEC used same sample. Was assumed it is 20 uM, however it was a bit less.)\n",
    "cd_sample_A280 = {\n",
    "    \"A12\": 0.395, # later measure: 0.406\n",
    "    \"A9\": 0.168, # later measure: 0.190\n",
    "    \"B8\": 0.517, # later measure: 0.537\n",
    "    \"A1\":0.173,\n",
    "    \"B12\": 0.210,\n",
    "    \"F4\": 0.211,\n",
    "    \"A11\": 0.569,\n",
    "    \"B3\":0.764,\n",
    "    \"B10\":0.175,\n",
    "}\n",
    "\n",
    "df[\"cd_sample_A280\"] = df[\"Well Position\"].map(cd_sample_A280)\n",
    "df[\"cd_sample_molar_conc\"] = df[\"cd_sample_A280\"] / df[\"sequence_molar_extinction_280_w_prefix\"]\n",
    "df[\"cd_path_length_mm\"]=1\n",
    "\n",
    "# crystal screens set up with 3+3 uL\n",
    "\n",
    "    # # plate 1, position 2:\n",
    "    # \"B12\": 19.19,\n",
    "\n",
    "    # # plate 2, position 1:\n",
    "    # \"A12\": 36.56,\n",
    "    # # plate 2, position 2:\n",
    "    # \"B8\": 43.35,\n",
    "\n",
    "    # # plate 3, position 1:\n",
    "    # \"A1\": 13.82,\n",
    "    # # plate 3, position 2:\n",
    "    # \"B3\": 37.62,\n",
    "crystal_screens_info = {\n",
    "    # plate 1, position 1:\n",
    "    \"A9\": {\n",
    "        \"plate\": 1,\n",
    "        \"position\": 1,\n",
    "        \"date\": \"2025-04-11\",\n",
    "        \"A280\": 19.40\n",
    "    },\n",
    "    \"B12\":{\n",
    "        \"plate\": 1,\n",
    "        \"position\": 2,\n",
    "        \"date\": \"2025-04-11\",\n",
    "        \"A280\": 19.19\n",
    "    },\n",
    "    \"A12\":{\n",
    "        \"plate\": 2,\n",
    "        \"position\": 1,\n",
    "        \"date\": \"2025-04-14\",\n",
    "        \"A280\": 36.56\n",
    "    },\n",
    "    \"B8\":{\n",
    "        \"plate\": 2,\n",
    "        \"position\": 2,\n",
    "        \"date\": \"2025-04-14\",\n",
    "        \"A280\": 43.35\n",
    "    },\n",
    "    \"A1\":{\n",
    "        \"plate\": 3,\n",
    "        \"position\": 1,\n",
    "        \"date\": \"2025-04-17\",\n",
    "        \"A280\": 13.82\n",
    "    },\n",
    "    \"B3\":{\n",
    "        \"plate\": 3,\n",
    "        \"position\": 2,\n",
    "        \"date\": \"2025-04-17\",\n",
    "        \"A280\": 37.62\n",
    "    }\n",
    "}\n",
    "# unpack all of these columns to df\n",
    "\n",
    "df[\"crystal_screens_info\"] = df[\"Well Position\"].map(crystal_screens_info)\n",
    "# df[\"mg_per_ml_crystal_screens\"] = df[\"crystal_screens_info\"].map(lambda x: x[\"mg_per_ml\"] if x else np.nan)\n",
    "# df[\"plate_crystal_screens\"] = df[\"crystal_screens_info\"].map(lambda x: x[\"plate\"] if x else np.nan)\n",
    "# df[\"position_crystal_screens\"] = df[\"crystal_screens_info\"].map(lambda x: x[\"position\"] if x else np.nan)\n",
    "# df[\"date_crystal_screens\"] = df[\"crystal_screens_info\"].map(lambda x: x[\"date\"] if x else np.nan)\n",
    "    \n"
   ]
  },
  {
   "cell_type": "code",
   "execution_count": null,
   "metadata": {},
   "outputs": [],
   "source": [
    "df[useful_cols].to_csv(\"/home/tadas/code/deltaproteinsBristol/experimental_results/deltaprot_designs_data_with_results.csv\", index=False)\n",
    "df.to_pickle(\"/home/tadas/code/deltaproteinsBristol/deltaprot_designs_all_data_with_results.pkl\")"
   ]
  },
  {
   "cell_type": "code",
   "execution_count": null,
   "metadata": {},
   "outputs": [],
   "source": [
    "df[df['large_scale_expressed']][[\"Well Position\",\"Name\",\"mass_w_prefix\",\"expression_levels\",\"mg_per_ml_after_SEC\",\"mg_after_SEC\",\"molar_conc_after_SEC\",\"cd_sample_molar_conc\"]]"
   ]
  },
  {
   "cell_type": "code",
   "execution_count": null,
   "metadata": {},
   "outputs": [],
   "source": [
    "# set limit to column width\n",
    "pd.set_option('display.max_colwidth', 1)"
   ]
  },
  {
   "cell_type": "code",
   "execution_count": null,
   "metadata": {},
   "outputs": [],
   "source": [
    "df[[\"Well Position\",\"cd_sample_molar_conc\",\"Name\",\"expression_levels\"]]"
   ]
  },
  {
   "cell_type": "code",
   "execution_count": null,
   "metadata": {},
   "outputs": [],
   "source": [
    "df[[\"Well Position\",\"cd_sample_molar_conc\",\"Name\",\"A280_after_SEC\",\"volume_after_sec\",\"sequence_molar_extinction_280_w_prefix\",\"molar_conc_after_SEC\",\"mg_per_ml_after_SEC\",\"mg_after_SEC\"]]"
   ]
  },
  {
   "cell_type": "code",
   "execution_count": null,
   "metadata": {},
   "outputs": [],
   "source": [
    "df[[\"Well Position\",\"Name\",\"mass\",\"mass_w_prefix\",\"charge\",\"A280_after_SEC\",\"volume_after_sec\",\"sequence_molar_extinction_280_w_prefix\",\"molar_conc_after_NI_NTA_IMAC\",\"molar_conc_after_SEC\",\"mg_per_ml_after_SEC\",\"mg_after_SEC\"]]"
   ]
  },
  {
   "cell_type": "code",
   "execution_count": null,
   "metadata": {},
   "outputs": [],
   "source": [
    "# mass correct: A9, A11, B2, C1, F4, B12\n",
    "# mass questionable: A12 (has 2 bands), B3 (2 bands)\n",
    "# mass wrong: "
   ]
  },
  {
   "cell_type": "code",
   "execution_count": null,
   "metadata": {},
   "outputs": [],
   "source": [
    "# unlimit pandas column display number\n",
    "pd.set_option('display.max_columns', None)"
   ]
  },
  {
   "cell_type": "code",
   "execution_count": null,
   "metadata": {},
   "outputs": [],
   "source": [
    "df[df[\"expression_levels\"].isna()][[\"Well Position\",\"Name\",\"mass_w_prefix\",\"expression_levels\",\"large_scale_expressed\"]]"
   ]
  },
  {
   "cell_type": "code",
   "execution_count": null,
   "metadata": {},
   "outputs": [],
   "source": [
    "df[\"expression_levels\"]"
   ]
  },
  {
   "cell_type": "code",
   "execution_count": null,
   "metadata": {},
   "outputs": [],
   "source": [
    "df[df[\"expression_levels\"].isin([\"low\",\"medium\",\"high\",\"super_high\"])].sort_values([\"large_scale_expressed\",\"expression_levels\"],ascending=[False,True])[[\"Well Position\",\"Name\",\"mass_w_prefix\",\"expression_levels\",\"large_scale_expressed\"]]"
   ]
  },
  {
   "cell_type": "code",
   "execution_count": null,
   "metadata": {},
   "outputs": [],
   "source": [
    "x=df[df[\"expression_levels\"].isin([\"high\",\"super_high\"])]\n",
    "x"
   ]
  },
  {
   "cell_type": "code",
   "execution_count": null,
   "metadata": {},
   "outputs": [],
   "source": [
    "# Choices for large scale expression\n",
    "\n",
    "# A12\tno_disulfide_b5ininn super_high\n",
    "# A9\tno_disulfide_b4nnnny\n",
    "# B8\tno_disulfide_h6i_i_i\n",
    "\n",
    "# A1 no_disulfide_b3iii (low-medium)\n",
    "# B12\tno_disulfide_l5iiin (medium)\n",
    "# F4\tvariable_linkers_l6innni\t(medium)\n"
   ]
  },
  {
   "cell_type": "code",
   "execution_count": null,
   "metadata": {},
   "outputs": [],
   "source": []
  },
  {
   "cell_type": "code",
   "execution_count": null,
   "metadata": {},
   "outputs": [],
   "source": []
  },
  {
   "cell_type": "code",
   "execution_count": null,
   "metadata": {},
   "outputs": [],
   "source": []
  },
  {
   "cell_type": "code",
   "execution_count": null,
   "metadata": {},
   "outputs": [],
   "source": [
    "p"
   ]
  },
  {
   "cell_type": "code",
   "execution_count": null,
   "metadata": {},
   "outputs": [],
   "source": []
  },
  {
   "cell_type": "code",
   "execution_count": null,
   "metadata": {},
   "outputs": [],
   "source": []
  },
  {
   "cell_type": "code",
   "execution_count": null,
   "metadata": {},
   "outputs": [],
   "source": []
  }
 ],
 "metadata": {
  "kernelspec": {
   "display_name": "deltaprot_design",
   "language": "python",
   "name": "python3"
  },
  "language_info": {
   "codemirror_mode": {
    "name": "ipython",
    "version": 3
   },
   "file_extension": ".py",
   "mimetype": "text/x-python",
   "name": "python",
   "nbconvert_exporter": "python",
   "pygments_lexer": "ipython3",
   "version": "3.8.18"
  }
 },
 "nbformat": 4,
 "nbformat_minor": 2
}
